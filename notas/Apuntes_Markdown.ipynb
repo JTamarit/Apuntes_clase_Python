{
 "cells": [
  {
   "cell_type": "markdown",
   "id": "filled-advocate",
   "metadata": {},
   "source": [
    "<img src=\"imagenes/Python.png\" width=\"50\">"
   ]
  },
  {
   "cell_type": "markdown",
   "id": "atmospheric-delaware",
   "metadata": {},
   "source": [
    "# **APUNTES DE MARKDOWN Y HTML PARA LA CREACIÓN DE NOTEBOOKS CON JUPYTER LAB** #"
   ]
  },
  {
   "cell_type": "markdown",
   "id": "printable-payday",
   "metadata": {},
   "source": [
    "--------\n"
   ]
  },
  {
   "cell_type": "markdown",
   "id": "alert-process",
   "metadata": {},
   "source": [
    "Para modificar el tipo de fuente y color, lo más simple es utilizar HTML"
   ]
  },
  {
   "cell_type": "markdown",
   "id": "eight-penny",
   "metadata": {},
   "source": [
    "<span style=\"font-family:Futura; font-size:2em; color:green\">Cambiar el tipo y tamaño de fuente del texto en Jupyter Notebook, utilizando HTML</span>\n"
   ]
  },
  {
   "cell_type": "raw",
   "id": "running-stretch",
   "metadata": {
    "jupyter": {
     "source_hidden": true
    },
    "tags": []
   },
   "source": [
    "<span style=\"font-family:Futura; font-size:2em; color:green\">Cambiar el tipo y tamaño de fuente del texto en Jupyter Notebook, utilizando HTML</span>"
   ]
  },
  {
   "cell_type": "markdown",
   "id": "objective-delhi",
   "metadata": {},
   "source": [
    "Crear títulos y listas:"
   ]
  },
  {
   "cell_type": "code",
   "execution_count": null,
   "id": "allied-philippines",
   "metadata": {},
   "outputs": [],
   "source": [
    "# TITULO #\n",
    "- ## TITULO ##\n",
    "- ### TITULO ###"
   ]
  },
  {
   "cell_type": "markdown",
   "id": "soviet-translation",
   "metadata": {},
   "source": [
    "# TITULO #\n",
    "- ## TITULO ##\n",
    "- ### TITULO ###"
   ]
  },
  {
   "cell_type": "markdown",
   "id": "native-royalty",
   "metadata": {},
   "source": [
    "------"
   ]
  },
  {
   "cell_type": "markdown",
   "id": "alternative-equipment",
   "metadata": {},
   "source": [
    "## Tablas"
   ]
  },
  {
   "cell_type": "raw",
   "id": "grave-planet",
   "metadata": {},
   "source": [
    "| Cabecera A | Cabecera B |\n",
    "| ---------- | ---------- |\n",
    "| Campo A1   | Campo B1   |\n",
    "| Campo A2   | Campo B2   |\n",
    "| Campo A3   | Campo B3   |"
   ]
  },
  {
   "cell_type": "markdown",
   "id": "legitimate-safety",
   "metadata": {},
   "source": [
    "| Cabecera A | Cabecera B |\n",
    "| ---------- | ---------- |\n",
    "| Campo A1   | Campo B1   |\n",
    "| Campo A2   | Campo B2   |\n",
    "| Campo A3   | Campo B3   |"
   ]
  },
  {
   "cell_type": "code",
   "execution_count": null,
   "id": "sharp-viewer",
   "metadata": {},
   "outputs": [],
   "source": []
  }
 ],
 "metadata": {
  "kernelspec": {
   "display_name": "Python 3",
   "language": "python",
   "name": "python3"
  },
  "language_info": {
   "codemirror_mode": {
    "name": "ipython",
    "version": 3
   },
   "file_extension": ".py",
   "mimetype": "text/x-python",
   "name": "python",
   "nbconvert_exporter": "python",
   "pygments_lexer": "ipython3",
   "version": "3.8.8"
  }
 },
 "nbformat": 4,
 "nbformat_minor": 5
}
