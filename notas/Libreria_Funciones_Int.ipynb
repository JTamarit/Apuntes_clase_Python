{
 "cells": [
  {
   "cell_type": "markdown",
   "id": "infinite-construction",
   "metadata": {},
   "source": [
    "# **LIBRERIAS Y FUNCIONES INTERESANTES** #\n",
    "\n",
    "----"
   ]
  },
  {
   "cell_type": "markdown",
   "id": "medical-attribute",
   "metadata": {},
   "source": [
    "Colección de librerias y funciones interesantes en Python para utilizar en la elaboración de código."
   ]
  },
  {
   "cell_type": "markdown",
   "id": "solved-performance",
   "metadata": {},
   "source": [
    "## **.strip()** ##"
   ]
  },
  {
   "cell_type": "markdown",
   "id": "overall-documentation",
   "metadata": {},
   "source": [
    "Esta función elimina los espacios en blanco en un cadena. Es especialmente interesante en la entrada de usuarios y en la comparación entre cadenas."
   ]
  },
  {
   "cell_type": "markdown",
   "id": "taken-democrat",
   "metadata": {},
   "source": [
    "favorite_language= \" Python \"\n",
    "favorite_language.strip()"
   ]
  },
  {
   "cell_type": "markdown",
   "id": "polished-reach",
   "metadata": {},
   "source": [
    "Dos modificaciones interesantes:\n",
    "\n",
    "### **.rstrip()** ###\n",
    "Elimina el espacio en blanco a la <span style=\"color:red\">derecha</span>\n",
    "\n",
    "### **.lstrip()** ###\n",
    "Elimina el espacio en blanco a la <span style=\"color:red\">izquierda\n",
    "</span>\n"
   ]
  },
  {
   "cell_type": "markdown",
   "id": "automatic-leisure",
   "metadata": {},
   "source": [
    "------"
   ]
  },
  {
   "cell_type": "markdown",
   "id": "facial-porcelain",
   "metadata": {},
   "source": [
    "-------"
   ]
  },
  {
   "cell_type": "code",
   "execution_count": null,
   "id": "terminal-robert",
   "metadata": {},
   "outputs": [],
   "source": []
  }
 ],
 "metadata": {
  "kernelspec": {
   "display_name": "Python 3",
   "language": "python",
   "name": "python3"
  },
  "language_info": {
   "codemirror_mode": {
    "name": "ipython",
    "version": 3
   },
   "file_extension": ".py",
   "mimetype": "text/x-python",
   "name": "python",
   "nbconvert_exporter": "python",
   "pygments_lexer": "ipython3",
   "version": "3.8.8"
  }
 },
 "nbformat": 4,
 "nbformat_minor": 5
}
