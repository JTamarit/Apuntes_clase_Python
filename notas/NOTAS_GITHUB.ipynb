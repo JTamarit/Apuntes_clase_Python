{
 "cells": [
  {
   "cell_type": "markdown",
   "id": "signal-identification",
   "metadata": {},
   "source": [
    "# GITHUB\n",
    "## ORIGIN PULL:\n",
    "https://github.com/vany-viu/EPPY_04_A_21-22.git\n",
    "## ORIGIN PUSH: \n",
    "https://github.com/JTamarit/EPPY_04_A_21-22.git\n",
    "\n"
   ]
  },
  {
   "cell_type": "code",
   "execution_count": null,
   "id": "pleased-alloy",
   "metadata": {},
   "outputs": [],
   "source": []
  }
 ],
 "metadata": {
  "kernelspec": {
   "display_name": "Python 3",
   "language": "python",
   "name": "python3"
  },
  "language_info": {
   "codemirror_mode": {
    "name": "ipython",
    "version": 3
   },
   "file_extension": ".py",
   "mimetype": "text/x-python",
   "name": "python",
   "nbconvert_exporter": "python",
   "pygments_lexer": "ipython3",
   "version": "3.8.8"
  }
 },
 "nbformat": 4,
 "nbformat_minor": 5
}